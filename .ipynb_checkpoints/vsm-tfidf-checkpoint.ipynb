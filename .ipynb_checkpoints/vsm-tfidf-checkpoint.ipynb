{
 "cells": [
  {
   "cell_type": "code",
   "execution_count": 1,
   "metadata": {},
   "outputs": [],
   "source": [
    "from scipy import sparse\n",
    "import numpy as np \n",
    "import re\n",
    "import os"
   ]
  },
  {
   "cell_type": "markdown",
   "metadata": {},
   "source": [
    "# 用 VSM 提取文本特征及权重"
   ]
  },
  {
   "cell_type": "code",
   "execution_count": 2,
   "metadata": {},
   "outputs": [],
   "source": [
    "def build_dictionary(directory):\n",
    "    \"\"\"\n",
    "    建立词典\n",
    "    \"\"\"\n",
    "    dict_set = set()\n",
    "    count = 0\n",
    "\n",
    "    for (dirname, dirs, files) in os.walk(directory):\n",
    "        for file in files:\n",
    "            if file.endswith(\".txt\"):\n",
    "                filename = os.path.join(dirname, file)\n",
    "                with open(filename, \"rb\") as f:\n",
    "                    count += 1\n",
    "                    data = f.readline().decode('gbk')\n",
    "                    words = data.split(',<<::=::>>')[0].split(\",\")\n",
    "                    dict_set |= set(words)\n",
    "    return dict_set\n",
    "    \n",
    "def reduce_dict(dict_set):\n",
    "    \"\"\"\n",
    "    去掉太短的词汇\n",
    "    \"\"\"\n",
    "    dict_copy = dict_set.copy()\n",
    "    for word in dict_set:\n",
    "        if len(word) < 2:\n",
    "            dict_copy.remove(word)\n",
    "    dictionary = {}\n",
    "    for idx, word in enumerate(dict_copy):\n",
    "        dictionary[word] = idx\n",
    "\n",
    "    return dictionary   \n",
    "    \n",
    "    \n",
    "def transform_data(dir, dictionary):\n",
    "    data = []\n",
    "    target = []\n",
    "    count = 0\n",
    "    dict_copy = dictionary.copy()\n",
    "\n",
    "    for (dirname, dirs, files) in os.walk(dir):\n",
    "        print(dirname)\n",
    "        for file in files:\n",
    "            if file.endswith(\".txt\"):\n",
    "                count += 1\n",
    "                filename = os.path.join(dirname, file)\n",
    "                tags = re.split('[/\\\\\\\\]', dirname)\n",
    "                tag = tags[-1]\n",
    "                word_vector = np.zeros(len(dict_copy))\n",
    "\n",
    "                with open(filename, \"rb\") as f:\n",
    "                    content = f.readline().decode('gbk')\n",
    "                    words = content.split(',<<::=::>>')[0].split(\",\")\n",
    "                    freqList = content.split('<<::=::>>')[1].strip(\",\").split(\",\")\n",
    "\n",
    "                    for word in words:\n",
    "                        try:\n",
    "                            intFreqList = [int(freq) for freq in freqList]\n",
    "                            afterData = dict(list(zip(words, intFreqList)))\n",
    "                            word_vector[dict_copy[word]] += afterData[word]\n",
    "\n",
    "                        except KeyError:\n",
    "                            pass\n",
    "\n",
    "                data.append(word_vector)\n",
    "                target.append(tag)\n",
    "    return sparse.csr_matrix(np.asarray(data)), np.asarray(target)"
   ]
  },
  {
   "cell_type": "code",
   "execution_count": 6,
   "metadata": {},
   "outputs": [
    {
     "name": "stdout",
     "output_type": "stream",
     "text": [
      "/workspace/mnt/group/customization/pengyuyan/dataMining/TanCorp-12-Txt_SegRes_2_1_53907f/train_SegRes/\n",
      "/workspace/mnt/group/customization/pengyuyan/dataMining/TanCorp-12-Txt_SegRes_2_1_53907f/train_SegRes/体育_SegRes\n",
      "/workspace/mnt/group/customization/pengyuyan/dataMining/TanCorp-12-Txt_SegRes_2_1_53907f/train_SegRes/娱乐_SegRes\n",
      "/workspace/mnt/group/customization/pengyuyan/dataMining/TanCorp-12-Txt_SegRes_2_1_53907f/train_SegRes/人才_SegRes\n",
      "/workspace/mnt/group/customization/pengyuyan/dataMining/TanCorp-12-Txt_SegRes_2_1_53907f/train_SegRes/房产_SegRes\n",
      "/workspace/mnt/group/customization/pengyuyan/dataMining/TanCorp-12-Txt_SegRes_2_1_53907f/train_SegRes/艺术_SegRes\n",
      "/workspace/mnt/group/customization/pengyuyan/dataMining/TanCorp-12-Txt_SegRes_2_1_53907f/train_SegRes/科技_SegRes\n",
      "/workspace/mnt/group/customization/pengyuyan/dataMining/TanCorp-12-Txt_SegRes_2_1_53907f/train_SegRes/财经_SegRes\n",
      "/workspace/mnt/group/customization/pengyuyan/dataMining/TanCorp-12-Txt_SegRes_2_1_53907f/train_SegRes/地域_SegRes\n",
      "/workspace/mnt/group/customization/pengyuyan/dataMining/TanCorp-12-Txt_SegRes_2_1_53907f/train_SegRes/教育_SegRes\n",
      "/workspace/mnt/group/customization/pengyuyan/dataMining/TanCorp-12-Txt_SegRes_2_1_53907f/train_SegRes/卫生_SegRes\n",
      "/workspace/mnt/group/customization/pengyuyan/dataMining/TanCorp-12-Txt_SegRes_2_1_53907f/train_SegRes/汽车_SegRes\n",
      "/workspace/mnt/group/customization/pengyuyan/dataMining/TanCorp-12-Txt_SegRes_2_1_53907f/train_SegRes/电脑_SegRes\n",
      "/workspace/mnt/group/customization/pengyuyan/dataMining/TanCorp-12-Txt_SegRes_2_1_53907f/test_SegRes\n",
      "/workspace/mnt/group/customization/pengyuyan/dataMining/TanCorp-12-Txt_SegRes_2_1_53907f/test_SegRes/体育_SegRes\n",
      "/workspace/mnt/group/customization/pengyuyan/dataMining/TanCorp-12-Txt_SegRes_2_1_53907f/test_SegRes/娱乐_SegRes\n",
      "/workspace/mnt/group/customization/pengyuyan/dataMining/TanCorp-12-Txt_SegRes_2_1_53907f/test_SegRes/人才_SegRes\n",
      "/workspace/mnt/group/customization/pengyuyan/dataMining/TanCorp-12-Txt_SegRes_2_1_53907f/test_SegRes/房产_SegRes\n",
      "/workspace/mnt/group/customization/pengyuyan/dataMining/TanCorp-12-Txt_SegRes_2_1_53907f/test_SegRes/艺术_SegRes\n",
      "/workspace/mnt/group/customization/pengyuyan/dataMining/TanCorp-12-Txt_SegRes_2_1_53907f/test_SegRes/科技_SegRes\n",
      "/workspace/mnt/group/customization/pengyuyan/dataMining/TanCorp-12-Txt_SegRes_2_1_53907f/test_SegRes/财经_SegRes\n",
      "/workspace/mnt/group/customization/pengyuyan/dataMining/TanCorp-12-Txt_SegRes_2_1_53907f/test_SegRes/地域_SegRes\n",
      "/workspace/mnt/group/customization/pengyuyan/dataMining/TanCorp-12-Txt_SegRes_2_1_53907f/test_SegRes/教育_SegRes\n",
      "/workspace/mnt/group/customization/pengyuyan/dataMining/TanCorp-12-Txt_SegRes_2_1_53907f/test_SegRes/卫生_SegRes\n",
      "/workspace/mnt/group/customization/pengyuyan/dataMining/TanCorp-12-Txt_SegRes_2_1_53907f/test_SegRes/汽车_SegRes\n",
      "/workspace/mnt/group/customization/pengyuyan/dataMining/TanCorp-12-Txt_SegRes_2_1_53907f/test_SegRes/电脑_SegRes\n"
     ]
    }
   ],
   "source": [
    "# 这样就得到了 9431 篇文章的 VSM 特征向量表征\n",
    "train_directory = \"/workspace/mnt/group/customization/pengyuyan/dataMining/TanCorp-12-Txt_SegRes_2_1_53907f/train_SegRes/\"\n",
    "train_feature, train_target = transform_data(train_directory, reduce_dict(build_dictionary(train_directory)))\n",
    "\n",
    "# 注意这里需要保证训练集和测试集所用的字典是一样的\n",
    "test_directory = \"/workspace/mnt/group/customization/pengyuyan/dataMining/TanCorp-12-Txt_SegRes_2_1_53907f/test_SegRes\"\n",
    "test_feature, test_target = transform_data(test_directory, reduce_dict(build_dictionary(train_directory)))\n"
   ]
  },
  {
   "cell_type": "markdown",
   "metadata": {},
   "source": [
    "# 模型训练"
   ]
  },
  {
   "cell_type": "code",
   "execution_count": 17,
   "metadata": {},
   "outputs": [
    {
     "data": {
      "text/plain": [
       "LogisticRegression(C=1.0, class_weight=None, dual=False, fit_intercept=True,\n",
       "          intercept_scaling=1, max_iter=100, multi_class='ovr', n_jobs=1,\n",
       "          penalty='l2', random_state=None, solver='liblinear', tol=0.0001,\n",
       "          verbose=0, warm_start=False)"
      ]
     },
     "execution_count": 17,
     "metadata": {},
     "output_type": "execute_result"
    }
   ],
   "source": [
    "from sklearn import linear_model\n",
    "logreg = linear_model.LogisticRegression()\n",
    "logreg.fit(train_feature, train_target)"
   ]
  },
  {
   "cell_type": "markdown",
   "metadata": {},
   "source": [
    "# 评估预测精度"
   ]
  },
  {
   "cell_type": "code",
   "execution_count": 18,
   "metadata": {},
   "outputs": [
    {
     "name": "stdout",
     "output_type": "stream",
     "text": [
      "The Accuracy is 0.9502013138376775\n"
     ]
    }
   ],
   "source": [
    "test_predict = logreg.predict(test_feature)\n",
    "true_false = (test_predict == test_target)\n",
    "acc = np.count_nonzero(true_false)/float(len(test_target))\n",
    "\n",
    "print(\"The Accuracy is {}\".format(acc))"
   ]
  },
  {
   "cell_type": "markdown",
   "metadata": {},
   "source": [
    "# 用 TF-IDF 提取文本特征及权重"
   ]
  },
  {
   "cell_type": "code",
   "execution_count": 410,
   "metadata": {},
   "outputs": [],
   "source": [
    "def compute_df_by_file():\n",
    "    for (dirname, dirs, files) in os.walk(train_directory):\n",
    "        word_docif_tf = []\n",
    "        for file in files:\n",
    "            if file.endswith(\".txt\"):\n",
    "                with open(os.path.join(dirname, file), \"rb\") as f:\n",
    "                    tf_dict = dict()\n",
    "                    content = f.readline().decode('gbk')\n",
    "                    words = content.split(',<<::=::>>')[0].split(\",\")\n",
    "                    freq = content.split('<<::=::>>')[1].strip(\",\").split(\",\")\n",
    "                    intFreqList = [int(freq) for freq in freqList]\n",
    "                    afterData = dict(list(zip(words, intFreqList)))\n",
    "\n",
    "                    for word in words:\n",
    "                        try:\n",
    "                            tf_dict[word] = afterData[word]\n",
    "                            \n",
    "                        except KeyError: \n",
    "                            pass\n",
    "\n",
    "                    tf_list = tf_dict.items()\n",
    "                    word_docif_tf += [[item[0], file, item[1]] for item in tf_list]\n",
    "                \n",
    "    return word_docif_tf"
   ]
  },
  {
   "cell_type": "code",
   "execution_count": 418,
   "metadata": {},
   "outputs": [],
   "source": [
    "import operator, itertools\n",
    "\n",
    "def compute_dfidf():\n",
    "    word_docif_tf = compute_df_by_file()\n",
    "    word_docif_tf.sort()\n",
    "    doc_freq = dict()\n",
    "    term_freq = dict()\n",
    "    \n",
    "    for current_word, group in itertools.groupby(word_docif_tf, key=operator.itemgetter(0)):\n",
    "        doclist = []\n",
    "        df = 0\n",
    "        \n",
    "        for current_word, filename, tf in group:\n",
    "            doclist.append([filename, tf])\n",
    "            df += 1\n",
    "        term_freq[current_word] = dict(doclist)\n",
    "        doc_freq[current_word] = df\n",
    "        \n",
    "        return term_freq, doc_freq"
   ]
  },
  {
   "cell_type": "code",
   "execution_count": 79,
   "metadata": {},
   "outputs": [],
   "source": [
    "import numpy as np\n",
    "\n",
    "def tfidf(feature):\n",
    "    \"\"\"\n",
    "    计算每篇文章的 tfidf\n",
    "    \"\"\"\n",
    "    \n",
    "    # 计算每个 word 的 tf\n",
    "    word_tf = feature\n",
    "\n",
    "    # 计算每个 word 的 idf\n",
    "    N_x = feature.shape[0]\n",
    "    N_for_words = (feature > 0).sum(0)\n",
    "    idf_for_words = [np.log(  (N+1)/(N_x+1) ) for N in N_for_words]\n",
    "\n",
    "    # 计算每个 word 的 tfidf\n",
    "    tfidf_for_words = word_tf.multiply(idf_for_words[0])\n",
    "    \n",
    "    return tfidf_for_words\n",
    "\n",
    "\n",
    "def get_target(directory):\n",
    "    \"\"\"\n",
    "    准备 target\n",
    "    \"\"\"\n",
    "    target = []\n",
    "    for (dirname, dirs, files) in os.walk(directory):\n",
    "        print(dirname)\n",
    "        for file in files:\n",
    "            if file.endswith(\".txt\"):\n",
    "                filename = os.path.join(dirname, file)\n",
    "                tags = re.split('[/\\\\\\\\]', dirname)\n",
    "                tag = tags[-1]\n",
    "                target.append(tag)\n",
    "    \n",
    "    return target"
   ]
  },
  {
   "cell_type": "code",
   "execution_count": null,
   "metadata": {},
   "outputs": [],
   "source": [
    "# 分别计算训练集和测试集的 feature 和 target\n",
    "train_feature_tfidf = tfidf(train_feature)\n",
    "train_feature_target_tfidf = get_target(train_directory)\n",
    "\n",
    "test_feature_tfidf = tfidf(test_feature)\n",
    "test_feature_target_tfidf = get_target(test_directory)"
   ]
  },
  {
   "cell_type": "code",
   "execution_count": null,
   "metadata": {},
   "outputs": [],
   "source": [
    "# 训练\n",
    "\n",
    "from sklearn import linear_model\n",
    "logreg_tfidf = linear_model.LogisticRegression()\n",
    "logreg_tfidf.fit(train_feature_tfidf, train_feature_target_tfidf)"
   ]
  },
  {
   "cell_type": "code",
   "execution_count": 82,
   "metadata": {},
   "outputs": [
    {
     "data": {
      "text/plain": [
       "LogisticRegression(C=1.0, class_weight=None, dual=False, fit_intercept=True,\n",
       "          intercept_scaling=1, max_iter=100, multi_class='ovr', n_jobs=1,\n",
       "          penalty='l2', random_state=None, solver='liblinear', tol=0.0001,\n",
       "          verbose=0, warm_start=False)"
      ]
     },
     "execution_count": 82,
     "metadata": {},
     "output_type": "execute_result"
    }
   ],
   "source": [
    "# 测试效果\n",
    "\n",
    "test_predict_tfidf = logreg_tfidf.predict(test_feature_tfidf)\n",
    "true_false_tfidf = (test_predict_tfidf == test_feature_target_tfidf)\n",
    "acc = np.count_nonzero(true_false_tfidf)/float(len(test_feature_target_tfidf))\n",
    "\n",
    "print(\"The Accuracy is {}\".format(acc))"
   ]
  }
 ],
 "metadata": {
  "kernelspec": {
   "display_name": "Python 3",
   "language": "python",
   "name": "python3"
  },
  "language_info": {
   "codemirror_mode": {
    "name": "ipython",
    "version": 3
   },
   "file_extension": ".py",
   "mimetype": "text/x-python",
   "name": "python",
   "nbconvert_exporter": "python",
   "pygments_lexer": "ipython3",
   "version": "3.5.2"
  }
 },
 "nbformat": 4,
 "nbformat_minor": 2
}
